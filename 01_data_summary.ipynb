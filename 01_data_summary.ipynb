{
 "cells": [
  {
   "cell_type": "code",
   "execution_count": 23,
   "metadata": {},
   "outputs": [],
   "source": [
    "import pandas as pd\n",
    "import os\n"
   ]
  },
  {
   "cell_type": "code",
   "execution_count": 24,
   "metadata": {},
   "outputs": [
    {
     "name": "stdout",
     "output_type": "stream",
     "text": [
      "           Column Name  Unique Count\n",
      "0                index        128975\n",
      "1             Order ID        120378\n",
      "2                 Date            91\n",
      "3               Status            13\n",
      "4           Fulfilment             2\n",
      "5        Sales Channel             2\n",
      "6   ship-service-level             2\n",
      "7                Style          1377\n",
      "8                  SKU          7195\n",
      "9             Category             9\n",
      "10                Size            11\n",
      "11                ASIN          7190\n",
      "12      Courier Status             4\n",
      "13                 Qty            10\n",
      "14            currency             1\n",
      "15              Amount          1410\n",
      "16           ship-city          7297\n",
      "17          ship-state            47\n",
      "18    ship-postal-code          9460\n",
      "19        ship-country             1\n",
      "20       promotion-ids          5788\n",
      "21                 B2B             2\n"
     ]
    }
   ],
   "source": [
    "# Load the dataset\n",
    "file_path = './data/Amazon Sales.csv'  # ファイルパスを適宜変更してください\n",
    "df = pd.read_csv(file_path)\n",
    "\n",
    "# Getting the column names and unique count for each column\n",
    "column_unique_counts = df.nunique()\n",
    "\n",
    "# Creating a dataframe to display column names and their unique counts\n",
    "column_unique_df = pd.DataFrame({\n",
    "    'Column Name': column_unique_counts.index,\n",
    "    'Unique Count': column_unique_counts.values\n",
    "})\n",
    "\n",
    "# Print the dataframe to show column names and unique counts\n",
    "print(column_unique_df)\n"
   ]
  },
  {
   "cell_type": "code",
   "execution_count": 25,
   "metadata": {},
   "outputs": [
    {
     "name": "stdout",
     "output_type": "stream",
     "text": [
      "               index            Qty         Amount  ship-postal-code\n",
      "count  128975.000000  128975.000000  128975.000000     128975.000000\n",
      "mean    64487.000000       0.904431     609.363662     463847.524466\n",
      "std     37232.019822       0.313354     313.347147     191596.021199\n",
      "min         0.000000       0.000000       0.000000          0.000000\n",
      "25%     32243.500000       1.000000     413.000000     382421.000000\n",
      "50%     64487.000000       1.000000     583.000000     500033.000000\n",
      "75%     96730.500000       1.000000     771.000000     600024.000000\n",
      "max    128974.000000      15.000000    5584.000000     989898.000000\n"
     ]
    }
   ],
   "source": [
    "# Get basic statistics for the dataset\n",
    "basic_stats = df.describe()\n",
    "\n",
    "# Print the basic statistics\n",
    "print(basic_stats)\n"
   ]
  },
  {
   "cell_type": "code",
   "execution_count": null,
   "metadata": {},
   "outputs": [],
   "source": []
  }
 ],
 "metadata": {
  "kernelspec": {
   "display_name": "ai_env",
   "language": "python",
   "name": "python3"
  },
  "language_info": {
   "codemirror_mode": {
    "name": "ipython",
    "version": 3
   },
   "file_extension": ".py",
   "mimetype": "text/x-python",
   "name": "python",
   "nbconvert_exporter": "python",
   "pygments_lexer": "ipython3",
   "version": "3.10.13"
  }
 },
 "nbformat": 4,
 "nbformat_minor": 2
}
