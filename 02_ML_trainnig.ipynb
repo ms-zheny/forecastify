{
 "cells": [
  {
   "cell_type": "code",
   "execution_count": 272,
   "metadata": {},
   "outputs": [],
   "source": [
    "#pip install azureml-sdk\n",
    "\n"
   ]
  },
  {
   "cell_type": "code",
   "execution_count": 273,
   "metadata": {},
   "outputs": [],
   "source": [
    "import os\n",
    "import pandas as pd\n",
    "import logging\n",
    "import json\n",
    "from azureml.core import Workspace, Dataset, Experiment\n",
    "from azureml.train.automl import AutoMLConfig\n",
    "from azureml.core.environment import Environment\n",
    "from azureml.data.dataset_factory import TabularDatasetFactory\n",
    "from azureml.automl.core.forecasting_parameters import ForecastingParameters\n",
    "from azureml.train.automl import AutoMLConfig\n",
    "from azureml.core import Dataset, Experiment"
   ]
  },
  {
   "cell_type": "code",
   "execution_count": 274,
   "metadata": {},
   "outputs": [
    {
     "name": "stdout",
     "output_type": "stream",
     "text": [
      "Compute target: cluster-001\n",
      "{'currentNodeCount': 1, 'targetNodeCount': 1, 'nodeStateCounts': {'preparingNodeCount': 0, 'runningNodeCount': 0, 'idleNodeCount': 1, 'unusableNodeCount': 0, 'leavingNodeCount': 0, 'preemptedNodeCount': 0}, 'allocationState': 'Steady', 'allocationStateTransitionTime': '2024-09-18T00:46:58.563000+00:00', 'errors': None, 'creationTime': '2024-09-17T02:16:12.974644+00:00', 'modifiedTime': '2024-09-18T15:47:23.658386+00:00', 'provisioningState': 'Succeeded', 'provisioningStateTransitionTime': None, 'scaleSettings': {'minNodeCount': 1, 'maxNodeCount': 3, 'nodeIdleTimeBeforeScaleDown': 'PT120S'}, 'vmPriority': 'Dedicated', 'vmSize': 'Standard_E4ds_v4'}\n"
     ]
    }
   ],
   "source": [
    "# Connect to the Azure ML workspace\n",
    "ws = Workspace.from_config()\n",
    "\n",
    "# Get the default datastore\n",
    "datastore = ws.get_default_datastore()\n",
    "\n",
    "# Get compute_name from config.json\n",
    "# Load the settings from config.json\n",
    "with open(\"./config.json\") as f:\n",
    "    config = json.load(f)\n",
    "\n",
    "compute_name = config[\"compute_name\"]\n",
    "\n",
    "# Retrieve or create a compute cluster\n",
    "if compute_name not in ws.compute_targets:\n",
    "    # If the cluster does not exist, create a new one\n",
    "    compute_config = AmlCompute.provisioning_configuration(vm_size=\"STANDARD_D2_V2\",  # VM size\n",
    "                                                           min_nodes=0,  # Minimum number of nodes\n",
    "                                                           max_nodes=4)  # Maximum number of nodes\n",
    "\n",
    "    # Create the cluster\n",
    "    compute_target = ComputeTarget.create(ws, compute_name, compute_config)\n",
    "\n",
    "    # Wait until the cluster is created\n",
    "    compute_target.wait_for_completion(show_output=True)\n",
    "else:\n",
    "    # Retrieve the existing cluster\n",
    "    compute_target = ws.compute_targets[compute_name]\n",
    "\n",
    "# Check if the cluster was successfully retrieved or created\n",
    "print(f\"Compute target: {compute_target.name}\")\n",
    "\n",
    "# Check the status of the cluster\n",
    "print(compute_target.get_status().serialize())\n"
   ]
  },
  {
   "cell_type": "code",
   "execution_count": 275,
   "metadata": {},
   "outputs": [
    {
     "name": "stdout",
     "output_type": "stream",
     "text": [
      "InProgress.\n",
      "SucceededProvisioning operation finished, operation \"Succeeded\"\n",
      "Succeeded\n",
      "AmlCompute wait for completion finished\n",
      "\n",
      "Minimum number of nodes requested have been provisioned\n"
     ]
    }
   ],
   "source": [
    "compute_target.update(min_nodes=1, max_nodes=3)  # Adjust the number of nodes\n",
    "compute_target.wait_for_completion(show_output=True)  # Wait until completion"
   ]
  },
  {
   "cell_type": "code",
   "execution_count": 277,
   "metadata": {},
   "outputs": [
    {
     "name": "stdout",
     "output_type": "stream",
     "text": [
      "Validating arguments.\n",
      "Arguments validated.\n",
      "Validating arguments.\n",
      "Arguments validated.\n",
      "'overwrite' is set to True. Any file already present in the target will be overwritten.\n",
      "Uploading files from 'C:/Users/MAKITS~1/AppData/Local/Temp/tmp8opkztus' to 'managed-dataset/7d23f1ad-081b-44f6-a8b0-a25a0d04a8a1/'\n",
      "Successfully uploaded file to datastore.\n",
      "Creating and registering a new dataset.\n",
      "Successfully created and registered a new dataset.\n"
     ]
    }
   ],
   "source": [
    "# データの前処理\n",
    "data = pd.read_csv(\"./data/train_data.csv\")\n",
    "\n",
    "# Date列を日付型に変換\n",
    "data['timestamp'] = pd.to_datetime(data['timestamp'])\n",
    "\n",
    "# 欠損値の処理\n",
    "data = data.fillna(method='ffill')\n",
    "\n",
    "# デフォルトのデータストアにデータセットを登録\n",
    "datastore = Datastore.get_default(ws)\n",
    "\n",
    "# Pandasデータフレームをデータストアに登録\n",
    "dataset = Dataset.Tabular.register_pandas_dataframe(data, datastore, \"timeseries_dataset\")\n",
    "\n",
    "# ForecastingParameters の設定\n",
    "forecasting_parameters = ForecastingParameters(\n",
    "    time_column_name='timestamp',\n",
    "    forecast_horizon=10,\n",
    "    target_lags=None,\n",
    "    rolling_window_size=None\n",
    ")\n",
    "\n",
    "# AutoML 設定\n",
    "automl_config = AutoMLConfig(\n",
    "    task='forecasting',\n",
    "    primary_metric='normalized_root_mean_squared_error',\n",
    "    experiment_timeout_minutes=30,\n",
    "    training_data=dataset,\n",
    "    label_column_name='Sales',\n",
    "    n_cross_validations=5,\n",
    "    enable_early_stopping=True,\n",
    "    target_lags=None,\n",
    "    rolling_window_size=None,\n",
    "    compute_target=compute_target,\n",
    "    forecasting_parameters=forecasting_parameters\n",
    ")\n",
    "\n",
    "# 実験の作成\n",
    "experiment = Experiment(ws, 'automl-timeseries-forecasting')\n"
   ]
  },
  {
   "cell_type": "code",
   "execution_count": 278,
   "metadata": {},
   "outputs": [
    {
     "name": "stderr",
     "output_type": "stream",
     "text": [
      "WARNING:root:Received unrecognized parameter rolling_window_size\n"
     ]
    },
    {
     "name": "stdout",
     "output_type": "stream",
     "text": [
      "Submitting remote run.\n",
      "No run_configuration provided, running on cluster-001 with default configuration\n",
      "Running on remote compute: cluster-001\n"
     ]
    },
    {
     "data": {
      "text/html": [
       "<table style=\"width:100%\"><tr><th>Experiment</th><th>Id</th><th>Type</th><th>Status</th><th>Details Page</th><th>Docs Page</th></tr><tr><td>automl-timeseries-forecasting</td><td>AutoML_5039c490-b909-41a2-95d0-0dc8aff3d5c7</td><td>automl</td><td>NotStarted</td><td><a href=\"https://ml.azure.com/runs/AutoML_5039c490-b909-41a2-95d0-0dc8aff3d5c7?wsid=/subscriptions/81732d72-a540-40ea-bead-9dce6ca2a115/resourcegroups/Hackathon_2024/workspaces/Hackathon-ml-maki&amp;tid=16b3c013-d300-468d-ac64-7eda0820b6d3\" target=\"_blank\" rel=\"noopener\">Link to Azure Machine Learning studio</a></td><td><a href=\"https://docs.microsoft.com/en-us/python/api/overview/azure/ml/intro?view=azure-ml-py\" target=\"_blank\" rel=\"noopener\">Link to Documentation</a></td></tr></table>"
      ]
     },
     "metadata": {},
     "output_type": "display_data"
    },
    {
     "name": "stdout",
     "output_type": "stream",
     "text": [
      "\n",
      "Current status: ModelSelection. Beginning model selection.\n",
      "\n",
      "********************************************************************************************\n",
      "DATA GUARDRAILS: \n",
      "\n",
      "TYPE:         Time Series ID detection\n",
      "STATUS:       PASSED\n",
      "DESCRIPTION:  The data set was analyzed, and no duplicate time index were detected.\n",
      "              Learn more about time-series forecasting configurations: https://aka.ms/AutomatedMLForecastingConfiguration\n",
      "\n",
      "********************************************************************************************\n",
      "\n",
      "TYPE:         Short series handling\n",
      "STATUS:       PASSED\n",
      "DESCRIPTION:  Automated ML detected enough data points for each series in the input data to continue with training.\n",
      "              Learn more about short series handling: https://aka.ms/AutomatedMLShortSeriesHandling\n",
      "\n",
      "********************************************************************************************\n",
      "\n",
      "TYPE:         Frequency detection\n",
      "STATUS:       PASSED\n",
      "DESCRIPTION:  The time series was analyzed, all data points are aligned with detected frequency.\n",
      "              Learn more about data preparation for time-series forecasting: https://aka.ms/AutomatedMLDataPreparation\n",
      "\n",
      "********************************************************************************************\n",
      "\n",
      "TYPE:         Non-stationarity time series detection and handling\n",
      "STATUS:       PASSED\n",
      "DESCRIPTION:  The data set was analyzed and passed stationarity checks.\n",
      "              \n",
      "\n",
      "********************************************************************************************\n",
      "\n",
      "TYPE:         Missing feature values imputation\n",
      "STATUS:       PASSED\n",
      "DESCRIPTION:  No feature missing values were detected in the training data.\n",
      "              Learn more about missing value imputation: https://aka.ms/AutomatedMLFeaturization\n",
      "\n",
      "********************************************************************************************\n",
      "\n",
      "TYPE:         Automatic cross validation\n",
      "STATUS:       DONE\n",
      "DESCRIPTION:  Cross validation parameter(s) were automatically set for your dataset.\n",
      "              Learn more about time-series forecasting configurations: https://aka.ms/AutomatedMLForecastingConfiguration\n",
      "DETAILS:      If n_cross_validations and/or cv_step_size is not specified, Automated ML will determine those cross validation parameters automatically for you.\n",
      "+----------------------------------------------------------------+\n",
      "|Number of periods between two consecutive cross validation folds|\n",
      "+================================================================+\n",
      "|1                                                               |\n",
      "+----------------------------------------------------------------+\n",
      "\n",
      "********************************************************************************************\n",
      "\n",
      "********************************************************************************************\n",
      "ITER: The iteration being evaluated.\n",
      "PIPELINE: A summary description of the pipeline being evaluated.\n",
      "DURATION: Time taken for the current iteration.\n",
      "METRIC: The result of computing score on the fitted pipeline.\n",
      "BEST: The best observed score thus far.\n",
      "********************************************************************************************\n",
      "\n",
      " ITER   PIPELINE                                       DURATION            METRIC      BEST\n"
     ]
    },
    {
     "name": "stderr",
     "output_type": "stream",
     "text": [
      "WARNING:root:Received unrecognized parameter rolling_window_size\n"
     ]
    },
    {
     "name": "stdout",
     "output_type": "stream",
     "text": [
      "    0    Naive                                         0:00:09             0.0819    0.0819\n",
      "    1    SeasonalNaive                                 0:00:08             0.0973    0.0819\n"
     ]
    }
   ],
   "source": [
    "# 実験の実行\n",
    "local_run = experiment.submit(automl_config, show_output=True)\n",
    "\n",
    "# 最良モデルの取得\n",
    "best_run, fitted_model = local_run.get_output()\n",
    "\n",
    "# 最良モデルの保存\n",
    "best_run.register_model(model_name=\"best_timeseries_model\", model_path=\"./outputs/model\")"
   ]
  },
  {
   "cell_type": "code",
   "execution_count": null,
   "metadata": {},
   "outputs": [],
   "source": []
  }
 ],
 "metadata": {
  "kernelspec": {
   "display_name": "ai_env",
   "language": "python",
   "name": "python3"
  },
  "language_info": {
   "codemirror_mode": {
    "name": "ipython",
    "version": 3
   },
   "file_extension": ".py",
   "mimetype": "text/x-python",
   "name": "python",
   "nbconvert_exporter": "python",
   "pygments_lexer": "ipython3",
   "version": "3.10.13"
  }
 },
 "nbformat": 4,
 "nbformat_minor": 2
}
