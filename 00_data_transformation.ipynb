{
 "cells": [
  {
   "cell_type": "code",
   "execution_count": 8,
   "metadata": {},
   "outputs": [
    {
     "name": "stdout",
     "output_type": "stream",
     "text": [
      "<class 'pandas.core.frame.DataFrame'>\n",
      "RangeIndex: 128975 entries, 0 to 128974\n",
      "Data columns (total 22 columns):\n",
      " #   Column              Non-Null Count   Dtype  \n",
      "---  ------              --------------   -----  \n",
      " 0   index               128975 non-null  int64  \n",
      " 1   Order ID            128975 non-null  object \n",
      " 2   Date                128975 non-null  object \n",
      " 3   Status              128975 non-null  object \n",
      " 4   Fulfilment          128975 non-null  object \n",
      " 5   Sales Channel       128975 non-null  object \n",
      " 6   ship-service-level  128975 non-null  object \n",
      " 7   Style               128975 non-null  object \n",
      " 8   SKU                 128975 non-null  object \n",
      " 9   Category            128975 non-null  object \n",
      " 10  Size                128975 non-null  object \n",
      " 11  ASIN                128975 non-null  object \n",
      " 12  Courier Status      128975 non-null  object \n",
      " 13  Qty                 128975 non-null  int64  \n",
      " 14  currency            128975 non-null  object \n",
      " 15  Amount              128975 non-null  float64\n",
      " 16  ship-city           128942 non-null  object \n",
      " 17  ship-state          128942 non-null  object \n",
      " 18  ship-postal-code    128975 non-null  int64  \n",
      " 19  ship-country        128942 non-null  object \n",
      " 20  promotion-ids       128975 non-null  object \n",
      " 21  B2B                 128975 non-null  bool   \n",
      "dtypes: bool(1), float64(1), int64(3), object(17)\n",
      "memory usage: 20.8+ MB\n"
     ]
    },
    {
     "data": {
      "text/plain": [
       "(None,\n",
       "    index             Order ID      Date                        Status  \\\n",
       " 0      0  405-8078784-5731545  22/04/30                     Cancelled   \n",
       " 1      1  171-9198151-1101146  22/04/30  Shipped - Delivered to Buyer   \n",
       " 2      2  404-0687676-7273146  22/04/30                       Shipped   \n",
       " 3      3  403-9615377-8133951  22/04/30                     Cancelled   \n",
       " 4      4  407-1069790-7240320  22/04/30                       Shipped   \n",
       " \n",
       "   Fulfilment Sales Channel ship-service-level    Style              SKU  \\\n",
       " 0   Merchant     Amazon.in           Standard   SET389   SET389-KR-NP-S   \n",
       " 1   Merchant     Amazon.in           Standard  JNE3781  JNE3781-KR-XXXL   \n",
       " 2     Amazon     Amazon.in          Expedited  JNE3371    JNE3371-KR-XL   \n",
       " 3   Merchant     Amazon.in           Standard    J0341       J0341-DR-L   \n",
       " 4     Amazon     Amazon.in          Expedited  JNE3671  JNE3671-TU-XXXL   \n",
       " \n",
       "         Category  ... Courier Status Qty currency  Amount    ship-city  \\\n",
       " 0            Set  ...    Not Shipped   0      INR  647.62       MUMBAI   \n",
       " 1          kurta  ...        Shipped   1      INR  406.00    BENGALURU   \n",
       " 2          kurta  ...        Shipped   1      INR  329.00  NAVI MUMBAI   \n",
       " 3  Western Dress  ...    Not Shipped   0      INR  753.33   PUDUCHERRY   \n",
       " 4            Top  ...        Shipped   1      INR  574.00      CHENNAI   \n",
       " \n",
       "     ship-state ship-postal-code ship-country  \\\n",
       " 0  MAHARASHTRA           400081           IN   \n",
       " 1    KARNATAKA           560085           IN   \n",
       " 2  MAHARASHTRA           410210           IN   \n",
       " 3   PUDUCHERRY           605008           IN   \n",
       " 4   TAMIL NADU           600073           IN   \n",
       " \n",
       "                                        promotion-ids    B2B  \n",
       " 0                                       No Promotion  False  \n",
       " 1  Amazon PLCC Free-Financing Universal Merchant ...  False  \n",
       " 2       IN Core Free Shipping 2015/04/08 23-48-5-108   True  \n",
       " 3                                       No Promotion  False  \n",
       " 4                                       No Promotion  False  \n",
       " \n",
       " [5 rows x 22 columns])"
      ]
     },
     "execution_count": 8,
     "metadata": {},
     "output_type": "execute_result"
    }
   ],
   "source": [
    "import pandas as pd\n",
    "\n",
    "# Load the data from the file\n",
    "file_path = './data/Amazon Sales.csv'\n",
    "data = pd.read_csv(file_path)\n",
    "\n",
    "# Display the basic information and the first few rows of the data to understand its features\n",
    "data_info = data.info()\n",
    "data_head = data.head()\n",
    "\n",
    "\n",
    "data_info, data_head\n"
   ]
  },
  {
   "cell_type": "code",
   "execution_count": 9,
   "metadata": {},
   "outputs": [
    {
     "data": {
      "text/html": [
       "<div>\n",
       "<style scoped>\n",
       "    .dataframe tbody tr th:only-of-type {\n",
       "        vertical-align: middle;\n",
       "    }\n",
       "\n",
       "    .dataframe tbody tr th {\n",
       "        vertical-align: top;\n",
       "    }\n",
       "\n",
       "    .dataframe thead th {\n",
       "        text-align: right;\n",
       "    }\n",
       "</style>\n",
       "<table border=\"1\" class=\"dataframe\">\n",
       "  <thead>\n",
       "    <tr style=\"text-align: right;\">\n",
       "      <th></th>\n",
       "      <th>Date</th>\n",
       "      <th>Date_Replaced</th>\n",
       "    </tr>\n",
       "  </thead>\n",
       "  <tbody>\n",
       "    <tr>\n",
       "      <th>0</th>\n",
       "      <td>22/04/30</td>\n",
       "      <td>2024-01-31</td>\n",
       "    </tr>\n",
       "    <tr>\n",
       "      <th>1</th>\n",
       "      <td>22/04/30</td>\n",
       "      <td>2024-01-31</td>\n",
       "    </tr>\n",
       "    <tr>\n",
       "      <th>2</th>\n",
       "      <td>22/04/30</td>\n",
       "      <td>2024-01-31</td>\n",
       "    </tr>\n",
       "    <tr>\n",
       "      <th>3</th>\n",
       "      <td>22/04/30</td>\n",
       "      <td>2024-01-31</td>\n",
       "    </tr>\n",
       "    <tr>\n",
       "      <th>4</th>\n",
       "      <td>22/04/30</td>\n",
       "      <td>2024-01-31</td>\n",
       "    </tr>\n",
       "  </tbody>\n",
       "</table>\n",
       "</div>"
      ],
      "text/plain": [
       "       Date Date_Replaced\n",
       "0  22/04/30    2024-01-31\n",
       "1  22/04/30    2024-01-31\n",
       "2  22/04/30    2024-01-31\n",
       "3  22/04/30    2024-01-31\n",
       "4  22/04/30    2024-01-31"
      ]
     },
     "execution_count": 9,
     "metadata": {},
     "output_type": "execute_result"
    }
   ],
   "source": [
    "# Create a DataFrame to show original and replaced dates in parallel\n",
    "parallel_dates = data[['Date', 'Date_Replaced']].drop_duplicates().sort_values(by='Date').reset_index(drop=True)\n",
    "\n",
    "import ace_tools as tools; tools.display_dataframe_to_user(name=\"Original and Replaced Dates\", dataframe=parallel_dates)\n",
    "\n",
    "# Extract the top 5 and last 5 rows from the parallel_dates DataFrame\n",
    "top_5 = parallel_dates.head(5)\n",
    "last_5 = parallel_dates.tail(5)\n",
    "\n",
    "# Combine top 5 and last 5 for display\n",
    "top_and_last_5 = pd.concat([top_5, last_5])\n",
    "\n",
    "import ace_tools as tools; tools.display_dataframe_to_user(name=\"Top 5 and Last 5 Dates\", dataframe=top_and_last_5)\n"
   ]
  },
  {
   "cell_type": "code",
   "execution_count": null,
   "metadata": {},
   "outputs": [],
   "source": []
  }
 ],
 "metadata": {
  "kernelspec": {
   "display_name": "ai_env",
   "language": "python",
   "name": "python3"
  },
  "language_info": {
   "codemirror_mode": {
    "name": "ipython",
    "version": 3
   },
   "file_extension": ".py",
   "mimetype": "text/x-python",
   "name": "python",
   "nbconvert_exporter": "python",
   "pygments_lexer": "ipython3",
   "version": "3.10.13"
  }
 },
 "nbformat": 4,
 "nbformat_minor": 2
}
